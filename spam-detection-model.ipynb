{
  "cells": [
    {
      "cell_type": "markdown",
      "metadata": {
        "id": "CPJAjpvH-TZK"
      },
      "source": [
        "#Initialisation:Importing Libraries and Data"
      ]
    },
    {
      "cell_type": "code",
      "execution_count": 4,
      "metadata": {
        "id": "82YBjqVG-A9w"
      },
      "outputs": [],
      "source": [
        "import pandas as pd\n",
        "import re\n",
        "import nltk\n",
        "from nltk.corpus import stopwords\n",
        "from nltk.tokenize import word_tokenize\n",
        "from nltk.stem import WordNetLemmatizer\n",
        "from sklearn.feature_extraction.text import TfidfVectorizer\n",
        "from sklearn.model_selection import train_test_split\n",
        "from sklearn.naive_bayes import MultinomialNB\n",
        "from sklearn.svm import SVC\n",
        "from sklearn.linear_model import LogisticRegression\n",
        "from sklearn.metrics import accuracy_score, classification_report"
      ]
    },
    {
      "cell_type": "code",
      "execution_count": 5,
      "metadata": {
        "colab": {
          "base_uri": "https://localhost:8080/"
        },
        "id": "AdEun4bbSKgH",
        "outputId": "847b7f23-f687-4473-eaa7-81b1c7f6498b"
      },
      "outputs": [
        {
          "name": "stderr",
          "output_type": "stream",
          "text": [
            "[nltk_data] Downloading package punkt to /root/nltk_data...\n",
            "[nltk_data]   Package punkt is already up-to-date!\n",
            "[nltk_data] Downloading package stopwords to /root/nltk_data...\n",
            "[nltk_data]   Package stopwords is already up-to-date!\n",
            "[nltk_data] Downloading package wordnet to /root/nltk_data...\n",
            "[nltk_data]   Package wordnet is already up-to-date!\n",
            "[nltk_data] Downloading package omw-1.4 to /root/nltk_data...\n",
            "[nltk_data]   Package omw-1.4 is already up-to-date!\n"
          ]
        },
        {
          "data": {
            "text/plain": [
              "True"
            ]
          },
          "execution_count": 5,
          "metadata": {},
          "output_type": "execute_result"
        }
      ],
      "source": [
        "nltk.download('punkt')\n",
        "nltk.download('stopwords')\n",
        "nltk.download('wordnet')\n",
        "nltk.download('omw-1.4')"
      ]
    },
    {
      "cell_type": "code",
      "execution_count": 6,
      "metadata": {
        "id": "KYzZufZF-LuW"
      },
      "outputs": [],
      "source": [
        "train_data = pd.read_csv('train.csv')"
      ]
    },
    {
      "cell_type": "code",
      "execution_count": 7,
      "metadata": {
        "colab": {
          "base_uri": "https://localhost:8080/",
          "height": 206
        },
        "id": "vxU804XOHQqH",
        "outputId": "1c319ca7-d9e3-4f3f-feff-573ed255e732"
      },
      "outputs": [
        {
          "data": {
            "application/vnd.google.colaboratory.intrinsic+json": {
              "summary": "{\n  \"name\": \"train_data\",\n  \"rows\": 20206,\n  \"fields\": [\n    {\n      \"column\": \"label\",\n      \"properties\": {\n        \"dtype\": \"category\",\n        \"num_unique_values\": 2,\n        \"samples\": [\n          \"Spam\",\n          \"Ham\"\n        ],\n        \"semantic_type\": \"\",\n        \"description\": \"\"\n      }\n    },\n    {\n      \"column\": \"text\",\n      \"properties\": {\n        \"dtype\": \"string\",\n        \"num_unique_values\": 20206,\n        \"samples\": [\n          \"hoegh galleon escapenumber oct escapenumber escapenumberlt escapenumber oct escapenumber escapenumber utc position noon nescapenumber\\u00b0escapenumber escapenumber eescapenumber\\u00b0escapenumber escapenumber b dist last noon escapenumbernm c dist go next port escapenumbernm next port algeciras escapenumber oct escapenumber escapenumber e escapenumber av wind sea wind nwescapenumber sea nwescapenumber escapenumber average speed escapenumber escapenumberkn rpm escapenumber escapenumber escapenumber bog escapenumber escapenumber mescapenumber escapenumber f consumed escapenumber mt escapenumber g consumed escapenumber escapenumbermt escapenumber average vapor press average liquid temp tkescapenumber escapenumber escapenumber bar escapenumber escapenumber \\u00b0c tkescapenumber escapenumber escapenumber bar escapenumber escapenumber \\u00b0c tkescapenumber escapenumber escapenumber bar escapenumber escapenumber \\u00b0c tkescapenumber escapenumber escapenumber bar escapenumber escapenumber \\u00b0c tkescapenumber escapenumber escapenumber bar escapenumber escapenumber \\u00b0c brgds knut bentzr\\u00f8d master lng c hoegh galleon e mail master gall hoegh teleph inmarsat tel escapenumber fax inmarsat fax escapenumber telex inmarsat b telex escapenumber telex inmarsat c telex escapenumber escapenumberhrs watch\",\n          \"the property is on th southwest corner of welch and morgan escapenumber block there are big new townhouses i would guess that the plans have been approved by the city prior to building two things that we need to keep in mind this property was abandoned building s prior to the new development and there was no visible existing sidewalks on welch or morgan before the new construction began in fact the plants that were growing there were offered for the taking prior to construction also if you drive by you will notice a grand old tree in the public right of way and it would be very difficult to put in a standard sidewalk without killing the tree however if you want to reach the proper city department to doublecheck you can call escapenumber and they will get you to the right people cheryl hastings ed gonzales wrote please give me the exact address on welch i can do this ed gonzales original message from thezistlers to sent tuesday february escapenumber escapenumber escapenumber escapenumber pm subject emca sidewalks is anyone familiar with the requirement in providing sidewalks along a public street the fellow that tore up our brand new welch street back in october has torn up the sidewalks on welch and planted grass in their place isn't he required to keep the sidewalks that existed before there are sidewalks on both sides of welch all the way from taft to montrose with the exception of the stretch in front of his new townhomes frank lorraine zistler to unsubscribe from this group send an email to emca unsubscribe egroups com your use of yahoo groups is subject to http docs yahoo com info terms to unsubscribe from this group send an email to emca unsubscribe egroups com your use of yahoo groups is subject to http docs yahoo com info terms yahoo groups sponsor get your free credit report with a free creditcheck monitoring service trial http us click yahoo com achqab bqescapenumbercaa yssfaa nooolb tm to unsubscribe from this group send an email to emca unsubscribe egroups com your use of yahoo groups is subject to http docs yahoo com info terms \"\n        ],\n        \"semantic_type\": \"\",\n        \"description\": \"\"\n      }\n    },\n    {\n      \"column\": \"EmailID\",\n      \"properties\": {\n        \"dtype\": \"number\",\n        \"std\": 5832.825430269622,\n        \"min\": 0.0,\n        \"max\": 20204.0,\n        \"num_unique_values\": 20205,\n        \"samples\": [\n          2312.0,\n          4205.0\n        ],\n        \"semantic_type\": \"\",\n        \"description\": \"\"\n      }\n    }\n  ]\n}",
              "type": "dataframe",
              "variable_name": "train_data"
            },
            "text/html": [
              "\n",
              "  <div id=\"df-9eea740d-a67d-4380-95d7-0e912f0b7109\" class=\"colab-df-container\">\n",
              "    <div>\n",
              "<style scoped>\n",
              "    .dataframe tbody tr th:only-of-type {\n",
              "        vertical-align: middle;\n",
              "    }\n",
              "\n",
              "    .dataframe tbody tr th {\n",
              "        vertical-align: top;\n",
              "    }\n",
              "\n",
              "    .dataframe thead th {\n",
              "        text-align: right;\n",
              "    }\n",
              "</style>\n",
              "<table border=\"1\" class=\"dataframe\">\n",
              "  <thead>\n",
              "    <tr style=\"text-align: right;\">\n",
              "      <th></th>\n",
              "      <th>label</th>\n",
              "      <th>text</th>\n",
              "      <th>EmailID</th>\n",
              "    </tr>\n",
              "  </thead>\n",
              "  <tbody>\n",
              "    <tr>\n",
              "      <th>0</th>\n",
              "      <td>Ham</td>\n",
              "      <td>eric called me last night and i am happy to co...</td>\n",
              "      <td>0.0</td>\n",
              "    </tr>\n",
              "    <tr>\n",
              "      <th>1</th>\n",
              "      <td>Spam</td>\n",
              "      <td>tr what is funnygadget com funnygadget com ca...</td>\n",
              "      <td>1.0</td>\n",
              "    </tr>\n",
              "    <tr>\n",
              "      <th>2</th>\n",
              "      <td>Ham</td>\n",
              "      <td>ricky sent me the nom early - 87 , 000 for the...</td>\n",
              "      <td>2.0</td>\n",
              "    </tr>\n",
              "    <tr>\n",
              "      <th>3</th>\n",
              "      <td>Ham</td>\n",
              "      <td>these are the numbers that are being exported ...</td>\n",
              "      <td>3.0</td>\n",
              "    </tr>\n",
              "    <tr>\n",
              "      <th>4</th>\n",
              "      <td>Spam</td>\n",
              "      <td>authentic replica rolex and other watches for ...</td>\n",
              "      <td>4.0</td>\n",
              "    </tr>\n",
              "  </tbody>\n",
              "</table>\n",
              "</div>\n",
              "    <div class=\"colab-df-buttons\">\n",
              "\n",
              "  <div class=\"colab-df-container\">\n",
              "    <button class=\"colab-df-convert\" onclick=\"convertToInteractive('df-9eea740d-a67d-4380-95d7-0e912f0b7109')\"\n",
              "            title=\"Convert this dataframe to an interactive table.\"\n",
              "            style=\"display:none;\">\n",
              "\n",
              "  <svg xmlns=\"http://www.w3.org/2000/svg\" height=\"24px\" viewBox=\"0 -960 960 960\">\n",
              "    <path d=\"M120-120v-720h720v720H120Zm60-500h600v-160H180v160Zm220 220h160v-160H400v160Zm0 220h160v-160H400v160ZM180-400h160v-160H180v160Zm440 0h160v-160H620v160ZM180-180h160v-160H180v160Zm440 0h160v-160H620v160Z\"/>\n",
              "  </svg>\n",
              "    </button>\n",
              "\n",
              "  <style>\n",
              "    .colab-df-container {\n",
              "      display:flex;\n",
              "      gap: 12px;\n",
              "    }\n",
              "\n",
              "    .colab-df-convert {\n",
              "      background-color: #E8F0FE;\n",
              "      border: none;\n",
              "      border-radius: 50%;\n",
              "      cursor: pointer;\n",
              "      display: none;\n",
              "      fill: #1967D2;\n",
              "      height: 32px;\n",
              "      padding: 0 0 0 0;\n",
              "      width: 32px;\n",
              "    }\n",
              "\n",
              "    .colab-df-convert:hover {\n",
              "      background-color: #E2EBFA;\n",
              "      box-shadow: 0px 1px 2px rgba(60, 64, 67, 0.3), 0px 1px 3px 1px rgba(60, 64, 67, 0.15);\n",
              "      fill: #174EA6;\n",
              "    }\n",
              "\n",
              "    .colab-df-buttons div {\n",
              "      margin-bottom: 4px;\n",
              "    }\n",
              "\n",
              "    [theme=dark] .colab-df-convert {\n",
              "      background-color: #3B4455;\n",
              "      fill: #D2E3FC;\n",
              "    }\n",
              "\n",
              "    [theme=dark] .colab-df-convert:hover {\n",
              "      background-color: #434B5C;\n",
              "      box-shadow: 0px 1px 3px 1px rgba(0, 0, 0, 0.15);\n",
              "      filter: drop-shadow(0px 1px 2px rgba(0, 0, 0, 0.3));\n",
              "      fill: #FFFFFF;\n",
              "    }\n",
              "  </style>\n",
              "\n",
              "    <script>\n",
              "      const buttonEl =\n",
              "        document.querySelector('#df-9eea740d-a67d-4380-95d7-0e912f0b7109 button.colab-df-convert');\n",
              "      buttonEl.style.display =\n",
              "        google.colab.kernel.accessAllowed ? 'block' : 'none';\n",
              "\n",
              "      async function convertToInteractive(key) {\n",
              "        const element = document.querySelector('#df-9eea740d-a67d-4380-95d7-0e912f0b7109');\n",
              "        const dataTable =\n",
              "          await google.colab.kernel.invokeFunction('convertToInteractive',\n",
              "                                                    [key], {});\n",
              "        if (!dataTable) return;\n",
              "\n",
              "        const docLinkHtml = 'Like what you see? Visit the ' +\n",
              "          '<a target=\"_blank\" href=https://colab.research.google.com/notebooks/data_table.ipynb>data table notebook</a>'\n",
              "          + ' to learn more about interactive tables.';\n",
              "        element.innerHTML = '';\n",
              "        dataTable['output_type'] = 'display_data';\n",
              "        await google.colab.output.renderOutput(dataTable, element);\n",
              "        const docLink = document.createElement('div');\n",
              "        docLink.innerHTML = docLinkHtml;\n",
              "        element.appendChild(docLink);\n",
              "      }\n",
              "    </script>\n",
              "  </div>\n",
              "\n",
              "\n",
              "<div id=\"df-0faa6f9c-a678-4b16-8594-6a467bdd7f9d\">\n",
              "  <button class=\"colab-df-quickchart\" onclick=\"quickchart('df-0faa6f9c-a678-4b16-8594-6a467bdd7f9d')\"\n",
              "            title=\"Suggest charts\"\n",
              "            style=\"display:none;\">\n",
              "\n",
              "<svg xmlns=\"http://www.w3.org/2000/svg\" height=\"24px\"viewBox=\"0 0 24 24\"\n",
              "     width=\"24px\">\n",
              "    <g>\n",
              "        <path d=\"M19 3H5c-1.1 0-2 .9-2 2v14c0 1.1.9 2 2 2h14c1.1 0 2-.9 2-2V5c0-1.1-.9-2-2-2zM9 17H7v-7h2v7zm4 0h-2V7h2v10zm4 0h-2v-4h2v4z\"/>\n",
              "    </g>\n",
              "</svg>\n",
              "  </button>\n",
              "\n",
              "<style>\n",
              "  .colab-df-quickchart {\n",
              "      --bg-color: #E8F0FE;\n",
              "      --fill-color: #1967D2;\n",
              "      --hover-bg-color: #E2EBFA;\n",
              "      --hover-fill-color: #174EA6;\n",
              "      --disabled-fill-color: #AAA;\n",
              "      --disabled-bg-color: #DDD;\n",
              "  }\n",
              "\n",
              "  [theme=dark] .colab-df-quickchart {\n",
              "      --bg-color: #3B4455;\n",
              "      --fill-color: #D2E3FC;\n",
              "      --hover-bg-color: #434B5C;\n",
              "      --hover-fill-color: #FFFFFF;\n",
              "      --disabled-bg-color: #3B4455;\n",
              "      --disabled-fill-color: #666;\n",
              "  }\n",
              "\n",
              "  .colab-df-quickchart {\n",
              "    background-color: var(--bg-color);\n",
              "    border: none;\n",
              "    border-radius: 50%;\n",
              "    cursor: pointer;\n",
              "    display: none;\n",
              "    fill: var(--fill-color);\n",
              "    height: 32px;\n",
              "    padding: 0;\n",
              "    width: 32px;\n",
              "  }\n",
              "\n",
              "  .colab-df-quickchart:hover {\n",
              "    background-color: var(--hover-bg-color);\n",
              "    box-shadow: 0 1px 2px rgba(60, 64, 67, 0.3), 0 1px 3px 1px rgba(60, 64, 67, 0.15);\n",
              "    fill: var(--button-hover-fill-color);\n",
              "  }\n",
              "\n",
              "  .colab-df-quickchart-complete:disabled,\n",
              "  .colab-df-quickchart-complete:disabled:hover {\n",
              "    background-color: var(--disabled-bg-color);\n",
              "    fill: var(--disabled-fill-color);\n",
              "    box-shadow: none;\n",
              "  }\n",
              "\n",
              "  .colab-df-spinner {\n",
              "    border: 2px solid var(--fill-color);\n",
              "    border-color: transparent;\n",
              "    border-bottom-color: var(--fill-color);\n",
              "    animation:\n",
              "      spin 1s steps(1) infinite;\n",
              "  }\n",
              "\n",
              "  @keyframes spin {\n",
              "    0% {\n",
              "      border-color: transparent;\n",
              "      border-bottom-color: var(--fill-color);\n",
              "      border-left-color: var(--fill-color);\n",
              "    }\n",
              "    20% {\n",
              "      border-color: transparent;\n",
              "      border-left-color: var(--fill-color);\n",
              "      border-top-color: var(--fill-color);\n",
              "    }\n",
              "    30% {\n",
              "      border-color: transparent;\n",
              "      border-left-color: var(--fill-color);\n",
              "      border-top-color: var(--fill-color);\n",
              "      border-right-color: var(--fill-color);\n",
              "    }\n",
              "    40% {\n",
              "      border-color: transparent;\n",
              "      border-right-color: var(--fill-color);\n",
              "      border-top-color: var(--fill-color);\n",
              "    }\n",
              "    60% {\n",
              "      border-color: transparent;\n",
              "      border-right-color: var(--fill-color);\n",
              "    }\n",
              "    80% {\n",
              "      border-color: transparent;\n",
              "      border-right-color: var(--fill-color);\n",
              "      border-bottom-color: var(--fill-color);\n",
              "    }\n",
              "    90% {\n",
              "      border-color: transparent;\n",
              "      border-bottom-color: var(--fill-color);\n",
              "    }\n",
              "  }\n",
              "</style>\n",
              "\n",
              "  <script>\n",
              "    async function quickchart(key) {\n",
              "      const quickchartButtonEl =\n",
              "        document.querySelector('#' + key + ' button');\n",
              "      quickchartButtonEl.disabled = true;  // To prevent multiple clicks.\n",
              "      quickchartButtonEl.classList.add('colab-df-spinner');\n",
              "      try {\n",
              "        const charts = await google.colab.kernel.invokeFunction(\n",
              "            'suggestCharts', [key], {});\n",
              "      } catch (error) {\n",
              "        console.error('Error during call to suggestCharts:', error);\n",
              "      }\n",
              "      quickchartButtonEl.classList.remove('colab-df-spinner');\n",
              "      quickchartButtonEl.classList.add('colab-df-quickchart-complete');\n",
              "    }\n",
              "    (() => {\n",
              "      let quickchartButtonEl =\n",
              "        document.querySelector('#df-0faa6f9c-a678-4b16-8594-6a467bdd7f9d button');\n",
              "      quickchartButtonEl.style.display =\n",
              "        google.colab.kernel.accessAllowed ? 'block' : 'none';\n",
              "    })();\n",
              "  </script>\n",
              "</div>\n",
              "\n",
              "    </div>\n",
              "  </div>\n"
            ],
            "text/plain": [
              "  label                                               text  EmailID\n",
              "0   Ham  eric called me last night and i am happy to co...      0.0\n",
              "1  Spam   tr what is funnygadget com funnygadget com ca...      1.0\n",
              "2   Ham  ricky sent me the nom early - 87 , 000 for the...      2.0\n",
              "3   Ham  these are the numbers that are being exported ...      3.0\n",
              "4  Spam  authentic replica rolex and other watches for ...      4.0"
            ]
          },
          "execution_count": 7,
          "metadata": {},
          "output_type": "execute_result"
        }
      ],
      "source": [
        "train_data.head()"
      ]
    },
    {
      "cell_type": "markdown",
      "metadata": {
        "id": "8Zi2zCSfCJ3G"
      },
      "source": [
        "#Preprocessing and Feature Engineering"
      ]
    },
    {
      "cell_type": "code",
      "execution_count": 8,
      "metadata": {
        "id": "TvuoEmuzyEOk"
      },
      "outputs": [],
      "source": [
        "#Convert text to lowercase\n",
        "train_data['text'] = train_data['text'].str.lower()"
      ]
    },
    {
      "cell_type": "code",
      "execution_count": 9,
      "metadata": {
        "id": "5VYXKsFfyF8d"
      },
      "outputs": [],
      "source": [
        "#Remove punctuation\n",
        "train_data['text'] = train_data['text'].apply(lambda x: re.sub(r'[^\\w\\s]', '', x))"
      ]
    },
    {
      "cell_type": "code",
      "execution_count": 10,
      "metadata": {
        "id": "RyNYGyjPyFxw"
      },
      "outputs": [],
      "source": [
        "#Tokenize text\n",
        "train_data['text'] = train_data['text'].apply(word_tokenize)"
      ]
    },
    {
      "cell_type": "code",
      "execution_count": 11,
      "metadata": {
        "id": "YmLSP4PQyJZ2"
      },
      "outputs": [],
      "source": [
        "#Remove stopwords\n",
        "stop_words = set(stopwords.words('english'))\n",
        "train_data['text'] = train_data['text'].apply(lambda x: [word for word in x if word not in stop_words])"
      ]
    },
    {
      "cell_type": "code",
      "execution_count": 12,
      "metadata": {
        "id": "d3VasV-kyJSS"
      },
      "outputs": [],
      "source": [
        "#Lemmatize tokens\n",
        "lemmatizer = WordNetLemmatizer()\n",
        "train_data['text'] = train_data['text'].apply(lambda x: [lemmatizer.lemmatize(word) for word in x])"
      ]
    },
    {
      "cell_type": "code",
      "execution_count": 13,
      "metadata": {
        "id": "-5VLuspZyOvz"
      },
      "outputs": [],
      "source": [
        "#Join tokens back into text\n",
        "train_data['text'] = train_data['text'].apply(lambda x: ' '.join(x))"
      ]
    },
    {
      "cell_type": "code",
      "execution_count": 14,
      "metadata": {
        "id": "pJ5DX-KPIYNl"
      },
      "outputs": [],
      "source": [
        "X_train, X_val, y_train, y_val = train_test_split(train_data['text'], train_data['label'], test_size=0.2, random_state=42)"
      ]
    },
    {
      "cell_type": "code",
      "execution_count": 15,
      "metadata": {
        "id": "adV-u3yDIcCp"
      },
      "outputs": [],
      "source": [
        "# Vectorize\n",
        "tfidf_vectorizer = TfidfVectorizer(max_features=6500)\n",
        "X_train_tfidf = tfidf_vectorizer.fit_transform(X_train)\n",
        "X_val_tfidf = tfidf_vectorizer.transform(X_val)"
      ]
    },
    {
      "cell_type": "markdown",
      "metadata": {
        "id": "u6Fp8zVCCgIl"
      },
      "source": [
        "#Model Training"
      ]
    },
    {
      "cell_type": "markdown",
      "metadata": {
        "id": "B7npIUDIP2IO"
      },
      "source": [
        "##Using Support Vector Classifier"
      ]
    },
    {
      "cell_type": "code",
      "execution_count": 16,
      "metadata": {
        "id": "IJOv8eqoyuB4"
      },
      "outputs": [],
      "source": [
        "model = SVC(kernel='linear')\n",
        "val_predictions = model.fit(X_train_tfidf, y_train)"
      ]
    },
    {
      "cell_type": "code",
      "execution_count": 17,
      "metadata": {
        "colab": {
          "base_uri": "https://localhost:8080/"
        },
        "id": "fVdOKIPd2jV6",
        "outputId": "926c4584-c233-4072-a861-5dcaaa8fe942"
      },
      "outputs": [
        {
          "name": "stdout",
          "output_type": "stream",
          "text": [
            "Validation Accuracy: 0.966848095002474\n",
            "Classification Report:\n",
            "              precision    recall  f1-score   support\n",
            "\n",
            "         Ham       0.98      0.96      0.97      2110\n",
            "        Spam       0.96      0.97      0.97      1932\n",
            "\n",
            "    accuracy                           0.97      4042\n",
            "   macro avg       0.97      0.97      0.97      4042\n",
            "weighted avg       0.97      0.97      0.97      4042\n",
            "\n"
          ]
        }
      ],
      "source": [
        "val_predictions = model.predict(X_val_tfidf)\n",
        "accuracy = accuracy_score(y_val, val_predictions)\n",
        "print(f\"Validation Accuracy:\", accuracy)\n",
        "print(f\"Classification Report:\")\n",
        "print(classification_report(y_val, val_predictions))"
      ]
    },
    {
      "cell_type": "markdown",
      "metadata": {
        "id": "1WDuXLGCP9Rw"
      },
      "source": [
        "## Using MultinomialNB"
      ]
    },
    {
      "cell_type": "code",
      "execution_count": 18,
      "metadata": {
        "id": "25TJMnxwPumE"
      },
      "outputs": [],
      "source": [
        "nb_model = MultinomialNB()\n",
        "nb_model.fit(X_train_tfidf, y_train)\n",
        "nb_predictions = nb_model.predict(X_val_tfidf)"
      ]
    },
    {
      "cell_type": "code",
      "execution_count": 19,
      "metadata": {
        "colab": {
          "base_uri": "https://localhost:8080/"
        },
        "id": "PoYucgwgPua-",
        "outputId": "14d26dac-14ea-423e-8234-d9890806d714"
      },
      "outputs": [
        {
          "name": "stdout",
          "output_type": "stream",
          "text": [
            "MultinomialNB Validation Accuracy: 0.946561108362197\n",
            "MultinomialNB Classification Report:\n",
            "              precision    recall  f1-score   support\n",
            "\n",
            "         Ham       0.94      0.96      0.95      2110\n",
            "        Spam       0.95      0.93      0.94      1932\n",
            "\n",
            "    accuracy                           0.95      4042\n",
            "   macro avg       0.95      0.95      0.95      4042\n",
            "weighted avg       0.95      0.95      0.95      4042\n",
            "\n"
          ]
        }
      ],
      "source": [
        "nb_accuracy = accuracy_score(y_val, nb_predictions)\n",
        "print(f\"MultinomialNB Validation Accuracy: {nb_accuracy}\")\n",
        "print(f\"MultinomialNB Classification Report:\")\n",
        "print(classification_report(y_val, nb_predictions))"
      ]
    },
    {
      "cell_type": "markdown",
      "metadata": {
        "id": "jH-sptRDCfW7"
      },
      "source": [
        "#Prediction on Test Data"
      ]
    },
    {
      "cell_type": "code",
      "execution_count": 20,
      "metadata": {
        "id": "jBurRYLaHhB4"
      },
      "outputs": [],
      "source": [
        "test_data = pd.read_csv('test.csv')"
      ]
    },
    {
      "cell_type": "code",
      "execution_count": 21,
      "metadata": {
        "colab": {
          "base_uri": "https://localhost:8080/",
          "height": 206
        },
        "id": "ogK3dNDgEuOS",
        "outputId": "ed6e3d7a-85a7-4376-87e8-c5f6188d97bb"
      },
      "outputs": [
        {
          "data": {
            "application/vnd.google.colaboratory.intrinsic+json": {
              "summary": "{\n  \"name\": \"test_data\",\n  \"rows\": 11631,\n  \"fields\": [\n    {\n      \"column\": \"text\",\n      \"properties\": {\n        \"dtype\": \"string\",\n        \"num_unique_values\": 11631,\n        \"samples\": [\n          \"author abartlet date escapenumber escapenumber escapenumber escapenumber escapenumber escapenumber escapenumber thu escapenumber may escapenumber new revision escapenumber websvn http websvn samba org cgi bin viewcvs cgi view rev root samba rev escapenumber log move to the tcp packet interface for the krbescapenumber send to kdc plugin this replaces a lump of hand crafted code with the generic packet system used in the rest of sambaescapenumber i started this while chasing down the epoll bug which turned out to be seperate modified branches samba escapenumber escapenumber source auth kerberos krbescapenumber init context c changeset modified branches samba escapenumber escapenumber source auth kerberos krbescapenumber init context c branches samba escapenumber escapenumber source auth kerberos krbescapenumber init context c escapenumber escapenumber escapenumber escapenumber escapenumber escapenumber utc rev escapenumber branches samba escapenumber escapenumber source auth kerberos krbescapenumber init context c escapenumber escapenumber escapenumber escapenumber escapenumber escapenumber utc rev escapenumber escapenumber escapenumber escapenumber escapenumber include heimdal lib krbescapenumber krbescapenumber locl h include auth kerberos kerberos h include lib socket socket h include lib stream packet h include system network h include lib events events h include roken h escapenumber escapenumber escapenumber escapenumber the fd event struct fd event fde bool timeout ntstatus status data blob request reply partial data blob request reply struct packet context packet size t partial read escapenumber escapenumber escapenumber escapenumber data blob blob size t nread dsize switch smb krbescapenumber hi proto case krbescapenumber krbhst udp smb krbescapenumber status socket pending smb krbescapenumber sock dsize if nt status is ok smb krbescapenumber status talloc free tmp ctx return blob data blob talloc tmp ctx null dsize if blob data null dsize escapenumber smb krbescapenumber status nt status no memory talloc free tmp ctx return smb krbescapenumber status socket recv smb krbescapenumber sock blob data blob length nread if nt status is ok smb krbescapenumber status talloc free tmp ctx return blob length nread if nread escapenumber smb krbescapenumber status nt status unexpected network error talloc free tmp ctx return debug escapenumber received smb krbescapenumber packet of length d\\\\\\\\n int blob length talloc steal smb krbescapenumber blob data smb krbescapenumber reply blob smb krbescapenumber status socket pending smb krbescapenumber sock dsize if nt status is ok smb krbescapenumber status talloc free tmp ctx break case krbescapenumber krbhst tcp if smb krbescapenumber partial length escapenumber smb krbescapenumber partial data blob talloc smb krbescapenumber null escapenumber if smb krbescapenumber partial data smb krbescapenumber status nt status no memory return smb krbescapenumber partial read escapenumber read in the packet length if smb krbescapenumber partial read escapenumber uintescapenumber t packet length smb krbescapenumber status socket recv smb krbescapenumber sock smb krbescapenumber partial data smb krbescapenumber partial read escapenumber smb krbescapenumber partial read nread todo this should be converted to the packet routines if nt status is ok smb krbescapenumber status return smb krbescapenumber partial read nread if smb krbescapenumber partial read escapenumber return packet length rival smb krbescapenumber partial data escapenumber smb krbescapenumber partial data talloc realloc smb krbescapenumber smb krbescapenumber partial data uintescapenumber t packet length escapenumber if smb krbescapenumber partial data smb krbescapenumber status nt status no memory return smb krbescapenumber partial length packet length escapenumber read in the body smb krbescapenumber status socket recv smb krbescapenumber sock smb krbescapenumber partial data smb krbescapenumber partial read smb krbescapenumber partial length smb krbescapenumber partial read nread if nt status is ok smb krbescapenumber status return smb krbescapenumber partial read nread if smb krbescapenumber partial read smb krbescapenumber partial length return smb krbescapenumber reply data blob talloc smb krbescapenumber smb krbescapenumber partial data escapenumber smb krbescapenumber partial length escapenumber break case krbescapenumber krbhst http return blob data blob talloc tmp ctx null dsize if blob data null dsize escapenumber smb krbescapenumber status nt status no memory talloc free tmp ctx return smb krbescapenumber status socket recv smb krbescapenumber sock blob data blob length nread if nt status is ok smb krbescapenumber status talloc free tmp ctx return blob length nread if nread escapenumber smb krbescapenumber status nt status unexpected network error talloc free tmp ctx return debug escapenumber received smb krbescapenumber packet of length d\\\\\\\\n int blob length talloc steal smb krbescapenumber blob data smb krbescapenumber reply blob talloc free tmp ctx static ntstatus smb krbescapenumber full packet void private data blob data struct smb krbescapenumber socket smb krbescapenumber talloc get type private struct smb krbescapenumber socket talloc steal smb krbescapenumber data data smb krbescapenumber reply data smb krbescapenumber reply length escapenumber smb krbescapenumber reply data escapenumber return nt status ok handle request timeouts escapenumber escapenumber escapenumber escapenumber struct smb krbescapenumber socket smb krbescapenumber talloc get type private struct smb krbescapenumber socket debug escapenumber timed out smb krbescapenumber packet\\\\\\\\n smb krbescapenumber timeout true smb krbescapenumber status nt status io timeout static void smb krbescapenumber error handler void private ntstatus status struct smb krbescapenumber socket smb krbescapenumber talloc get type private struct smb krbescapenumber socket smb krbescapenumber status status handle send events on a smb krbescapenumber socket escapenumber escapenumber escapenumber escapenumber uintescapenumber t flags void private struct smb krbescapenumber socket smb krbescapenumber talloc get type private struct smb krbescapenumber socket if flags event fd write smb krbescapenumber socket send smb krbescapenumber if flags event fd read smb krbescapenumber socket recv smb krbescapenumber switch smb krbescapenumber hi proto case krbescapenumber krbhst udp if flags event fd write smb krbescapenumber socket send smb krbescapenumber if flags event fd read smb krbescapenumber socket recv smb krbescapenumber break case krbescapenumber krbhst tcp if flags event fd read packet recv smb krbescapenumber packet if flags event fd write packet queue run smb krbescapenumber packet break case krbescapenumber krbhst http can't happen break escapenumber escapenumber escapenumber escapenumber talloc free remote addr smb krbescapenumber fde event add fd ev smb krbescapenumber smb krbescapenumber fde event add fd ev smb krbescapenumber sock socket get fd smb krbescapenumber sock event fd autoclose smb krbescapenumber socket handler smb krbescapenumber escapenumber escapenumber escapenumber escapenumber timeval current ofs context kdc timeout escapenumber smb krbescapenumber request timeout smb krbescapenumber event fd writeable smb krbescapenumber fde smb krbescapenumber status nt status ok smb krbescapenumber reply data blob null escapenumber switch hi proto case krbescapenumber krbhst udp event fd writeable smb krbescapenumber fde smb krbescapenumber request send blob break case krbescapenumber krbhst tcp smb krbescapenumber packet packet init smb krbescapenumber if smb krbescapenumber packet null talloc free smb krbescapenumber return enomem packet set private smb krbescapenumber packet smb krbescapenumber packet set socket smb krbescapenumber packet smb krbescapenumber sock packet set callback smb krbescapenumber packet smb krbescapenumber full packet packet set full request smb krbescapenumber packet packet full request uescapenumber packet set error handler smb krbescapenumber packet smb krbescapenumber error handler packet set event context smb krbescapenumber packet ev packet set fde smb krbescapenumber packet smb krbescapenumber fde smb krbescapenumber request data blob talloc smb krbescapenumber null send blob length escapenumber rsival smb krbescapenumber request data escapenumber send blob length memcpy smb krbescapenumber request data escapenumber send blob data send blob length packet send smb krbescapenumber packet smb krbescapenumber request event fd readable smb krbescapenumber fde break case krbescapenumber krbhst http talloc free smb krbescapenumber return einval smb krbescapenumber timeout false smb krbescapenumber status nt status ok smb krbescapenumber reply data blob null escapenumber smb krbescapenumber partial data blob null escapenumber while smb krbescapenumber timeout nt status is ok smb krbescapenumber status smb krbescapenumber reply length while nt status is ok smb krbescapenumber status smb krbescapenumber reply length if event loop once ev escapenumber talloc free smb krbescapenumber return einval if nt status is ok smb krbescapenumber status debug escapenumber error reading smb krbescapenumber reply packet s\\\\\\\\n nt errstr smb krbescapenumber status if nt status equal smb krbescapenumber status nt status io timeout talloc free smb krbescapenumber continue if smb krbescapenumber timeout if nt status is ok smb krbescapenumber status debug escapenumber error reading smb krbescapenumber reply packet s\\\\\\\\n nt errstr smb krbescapenumber status talloc free smb krbescapenumber continue \",\n          \"hey people how frighteningly few are the persons whose death would spoil our appetite and make the world seem empty i wish it christianity were more productive of good works i mean real good works not holy day keeping sermon hearing or making long prayers filled with flatteries and compliments despised by wise men and much less capable of pleasing the deity defend your limitations and you own them http poltavasd com escapelong escapelong htm learning is an ornament in prosperity a refuge in adversity and a provision in old age do not tell a friend anything you would conceal from an enemy equality consists in the same treatment of similar persons the search will continue not until the empirical resources are exhausted need we pass on to the dreamy realms of speculation never give in never never never never in nothing great or small large or petty never give in except to convictions of honor and good sense never yield to force never yield to the apparently overwhelming might of the enemy ak morolung http poltavasd com escapelong escapelong html\",\n          \"mark it has been a while since we last discussed the oracle tibco and beas contacts and what effect if any they will have on our e commerce solutions that we are presenting to third parties as a review the following are the basic sets of offerings escapenumber third parties gas pipelines gas storage companies will post their products on the enrononline website escapenumber enrononline will build a private e marketplace essentially an enrononline look alike for third parties enrononline will host the private e marketplace using enron hardware on enron's premises note a second tier to this offering will allow the same third party to cross post its products simultaneously on enrononline as well as the private e marketplace escapenumber a software license giving a third party the right to use enrononline software but maintain the application and website on its own premises using its own hardware escapenumber a software sale selling the object or source code of enrononline software to third parties at one point we were expecting a response from outside legal council did we ever get anything in writing if so would you please forward it to me we are very close to defining commercial terms for building several private e marketplaces escapenumber above we need to know if certain contractual conflicts exist and if so what freedom do we have please inform us of where you stand on these points so that we can move forward with pricing these options thanks carl carl m carter enrononline llc escapenumber escapenumber escapenumber tel escapenumber escapenumber escapenumber cell escapenumber escapenumber escapenumber fax carl carter enron com\"\n        ],\n        \"semantic_type\": \"\",\n        \"description\": \"\"\n      }\n    },\n    {\n      \"column\": \"EmailID\",\n      \"properties\": {\n        \"dtype\": \"number\",\n        \"std\": 3357,\n        \"min\": 46524,\n        \"max\": 58154,\n        \"num_unique_values\": 11631,\n        \"samples\": [\n          53847,\n          51606,\n          47602\n        ],\n        \"semantic_type\": \"\",\n        \"description\": \"\"\n      }\n    }\n  ]\n}",
              "type": "dataframe",
              "variable_name": "test_data"
            },
            "text/html": [
              "\n",
              "  <div id=\"df-6435eb95-4c68-4112-b32e-aba8fa3ef632\" class=\"colab-df-container\">\n",
              "    <div>\n",
              "<style scoped>\n",
              "    .dataframe tbody tr th:only-of-type {\n",
              "        vertical-align: middle;\n",
              "    }\n",
              "\n",
              "    .dataframe tbody tr th {\n",
              "        vertical-align: top;\n",
              "    }\n",
              "\n",
              "    .dataframe thead th {\n",
              "        text-align: right;\n",
              "    }\n",
              "</style>\n",
              "<table border=\"1\" class=\"dataframe\">\n",
              "  <thead>\n",
              "    <tr style=\"text-align: right;\">\n",
              "      <th></th>\n",
              "      <th>text</th>\n",
              "      <th>EmailID</th>\n",
              "    </tr>\n",
              "  </thead>\n",
              "  <tbody>\n",
              "    <tr>\n",
              "      <th>0</th>\n",
              "      <td>monika try calling ron heller escapenumber esc...</td>\n",
              "      <td>46524</td>\n",
              "    </tr>\n",
              "    <tr>\n",
              "      <th>1</th>\n",
              "      <td>dear all ,\\nattached is a paper describing the...</td>\n",
              "      <td>46525</td>\n",
              "    </tr>\n",
              "    <tr>\n",
              "      <th>2</th>\n",
              "      <td>arm inc e yo xual des spe ume reas ur se ire r...</td>\n",
              "      <td>46526</td>\n",
              "    </tr>\n",
              "    <tr>\n",
              "      <th>3</th>\n",
              "      <td>you are the man http ourmix hk</td>\n",
              "      <td>46527</td>\n",
              "    </tr>\n",
              "    <tr>\n",
              "      <th>4</th>\n",
              "      <td>kay mann enron com bmm b b b b b b b escapenum...</td>\n",
              "      <td>46528</td>\n",
              "    </tr>\n",
              "  </tbody>\n",
              "</table>\n",
              "</div>\n",
              "    <div class=\"colab-df-buttons\">\n",
              "\n",
              "  <div class=\"colab-df-container\">\n",
              "    <button class=\"colab-df-convert\" onclick=\"convertToInteractive('df-6435eb95-4c68-4112-b32e-aba8fa3ef632')\"\n",
              "            title=\"Convert this dataframe to an interactive table.\"\n",
              "            style=\"display:none;\">\n",
              "\n",
              "  <svg xmlns=\"http://www.w3.org/2000/svg\" height=\"24px\" viewBox=\"0 -960 960 960\">\n",
              "    <path d=\"M120-120v-720h720v720H120Zm60-500h600v-160H180v160Zm220 220h160v-160H400v160Zm0 220h160v-160H400v160ZM180-400h160v-160H180v160Zm440 0h160v-160H620v160ZM180-180h160v-160H180v160Zm440 0h160v-160H620v160Z\"/>\n",
              "  </svg>\n",
              "    </button>\n",
              "\n",
              "  <style>\n",
              "    .colab-df-container {\n",
              "      display:flex;\n",
              "      gap: 12px;\n",
              "    }\n",
              "\n",
              "    .colab-df-convert {\n",
              "      background-color: #E8F0FE;\n",
              "      border: none;\n",
              "      border-radius: 50%;\n",
              "      cursor: pointer;\n",
              "      display: none;\n",
              "      fill: #1967D2;\n",
              "      height: 32px;\n",
              "      padding: 0 0 0 0;\n",
              "      width: 32px;\n",
              "    }\n",
              "\n",
              "    .colab-df-convert:hover {\n",
              "      background-color: #E2EBFA;\n",
              "      box-shadow: 0px 1px 2px rgba(60, 64, 67, 0.3), 0px 1px 3px 1px rgba(60, 64, 67, 0.15);\n",
              "      fill: #174EA6;\n",
              "    }\n",
              "\n",
              "    .colab-df-buttons div {\n",
              "      margin-bottom: 4px;\n",
              "    }\n",
              "\n",
              "    [theme=dark] .colab-df-convert {\n",
              "      background-color: #3B4455;\n",
              "      fill: #D2E3FC;\n",
              "    }\n",
              "\n",
              "    [theme=dark] .colab-df-convert:hover {\n",
              "      background-color: #434B5C;\n",
              "      box-shadow: 0px 1px 3px 1px rgba(0, 0, 0, 0.15);\n",
              "      filter: drop-shadow(0px 1px 2px rgba(0, 0, 0, 0.3));\n",
              "      fill: #FFFFFF;\n",
              "    }\n",
              "  </style>\n",
              "\n",
              "    <script>\n",
              "      const buttonEl =\n",
              "        document.querySelector('#df-6435eb95-4c68-4112-b32e-aba8fa3ef632 button.colab-df-convert');\n",
              "      buttonEl.style.display =\n",
              "        google.colab.kernel.accessAllowed ? 'block' : 'none';\n",
              "\n",
              "      async function convertToInteractive(key) {\n",
              "        const element = document.querySelector('#df-6435eb95-4c68-4112-b32e-aba8fa3ef632');\n",
              "        const dataTable =\n",
              "          await google.colab.kernel.invokeFunction('convertToInteractive',\n",
              "                                                    [key], {});\n",
              "        if (!dataTable) return;\n",
              "\n",
              "        const docLinkHtml = 'Like what you see? Visit the ' +\n",
              "          '<a target=\"_blank\" href=https://colab.research.google.com/notebooks/data_table.ipynb>data table notebook</a>'\n",
              "          + ' to learn more about interactive tables.';\n",
              "        element.innerHTML = '';\n",
              "        dataTable['output_type'] = 'display_data';\n",
              "        await google.colab.output.renderOutput(dataTable, element);\n",
              "        const docLink = document.createElement('div');\n",
              "        docLink.innerHTML = docLinkHtml;\n",
              "        element.appendChild(docLink);\n",
              "      }\n",
              "    </script>\n",
              "  </div>\n",
              "\n",
              "\n",
              "<div id=\"df-18a18d1e-4da7-48c2-b649-0dd26fc5fafd\">\n",
              "  <button class=\"colab-df-quickchart\" onclick=\"quickchart('df-18a18d1e-4da7-48c2-b649-0dd26fc5fafd')\"\n",
              "            title=\"Suggest charts\"\n",
              "            style=\"display:none;\">\n",
              "\n",
              "<svg xmlns=\"http://www.w3.org/2000/svg\" height=\"24px\"viewBox=\"0 0 24 24\"\n",
              "     width=\"24px\">\n",
              "    <g>\n",
              "        <path d=\"M19 3H5c-1.1 0-2 .9-2 2v14c0 1.1.9 2 2 2h14c1.1 0 2-.9 2-2V5c0-1.1-.9-2-2-2zM9 17H7v-7h2v7zm4 0h-2V7h2v10zm4 0h-2v-4h2v4z\"/>\n",
              "    </g>\n",
              "</svg>\n",
              "  </button>\n",
              "\n",
              "<style>\n",
              "  .colab-df-quickchart {\n",
              "      --bg-color: #E8F0FE;\n",
              "      --fill-color: #1967D2;\n",
              "      --hover-bg-color: #E2EBFA;\n",
              "      --hover-fill-color: #174EA6;\n",
              "      --disabled-fill-color: #AAA;\n",
              "      --disabled-bg-color: #DDD;\n",
              "  }\n",
              "\n",
              "  [theme=dark] .colab-df-quickchart {\n",
              "      --bg-color: #3B4455;\n",
              "      --fill-color: #D2E3FC;\n",
              "      --hover-bg-color: #434B5C;\n",
              "      --hover-fill-color: #FFFFFF;\n",
              "      --disabled-bg-color: #3B4455;\n",
              "      --disabled-fill-color: #666;\n",
              "  }\n",
              "\n",
              "  .colab-df-quickchart {\n",
              "    background-color: var(--bg-color);\n",
              "    border: none;\n",
              "    border-radius: 50%;\n",
              "    cursor: pointer;\n",
              "    display: none;\n",
              "    fill: var(--fill-color);\n",
              "    height: 32px;\n",
              "    padding: 0;\n",
              "    width: 32px;\n",
              "  }\n",
              "\n",
              "  .colab-df-quickchart:hover {\n",
              "    background-color: var(--hover-bg-color);\n",
              "    box-shadow: 0 1px 2px rgba(60, 64, 67, 0.3), 0 1px 3px 1px rgba(60, 64, 67, 0.15);\n",
              "    fill: var(--button-hover-fill-color);\n",
              "  }\n",
              "\n",
              "  .colab-df-quickchart-complete:disabled,\n",
              "  .colab-df-quickchart-complete:disabled:hover {\n",
              "    background-color: var(--disabled-bg-color);\n",
              "    fill: var(--disabled-fill-color);\n",
              "    box-shadow: none;\n",
              "  }\n",
              "\n",
              "  .colab-df-spinner {\n",
              "    border: 2px solid var(--fill-color);\n",
              "    border-color: transparent;\n",
              "    border-bottom-color: var(--fill-color);\n",
              "    animation:\n",
              "      spin 1s steps(1) infinite;\n",
              "  }\n",
              "\n",
              "  @keyframes spin {\n",
              "    0% {\n",
              "      border-color: transparent;\n",
              "      border-bottom-color: var(--fill-color);\n",
              "      border-left-color: var(--fill-color);\n",
              "    }\n",
              "    20% {\n",
              "      border-color: transparent;\n",
              "      border-left-color: var(--fill-color);\n",
              "      border-top-color: var(--fill-color);\n",
              "    }\n",
              "    30% {\n",
              "      border-color: transparent;\n",
              "      border-left-color: var(--fill-color);\n",
              "      border-top-color: var(--fill-color);\n",
              "      border-right-color: var(--fill-color);\n",
              "    }\n",
              "    40% {\n",
              "      border-color: transparent;\n",
              "      border-right-color: var(--fill-color);\n",
              "      border-top-color: var(--fill-color);\n",
              "    }\n",
              "    60% {\n",
              "      border-color: transparent;\n",
              "      border-right-color: var(--fill-color);\n",
              "    }\n",
              "    80% {\n",
              "      border-color: transparent;\n",
              "      border-right-color: var(--fill-color);\n",
              "      border-bottom-color: var(--fill-color);\n",
              "    }\n",
              "    90% {\n",
              "      border-color: transparent;\n",
              "      border-bottom-color: var(--fill-color);\n",
              "    }\n",
              "  }\n",
              "</style>\n",
              "\n",
              "  <script>\n",
              "    async function quickchart(key) {\n",
              "      const quickchartButtonEl =\n",
              "        document.querySelector('#' + key + ' button');\n",
              "      quickchartButtonEl.disabled = true;  // To prevent multiple clicks.\n",
              "      quickchartButtonEl.classList.add('colab-df-spinner');\n",
              "      try {\n",
              "        const charts = await google.colab.kernel.invokeFunction(\n",
              "            'suggestCharts', [key], {});\n",
              "      } catch (error) {\n",
              "        console.error('Error during call to suggestCharts:', error);\n",
              "      }\n",
              "      quickchartButtonEl.classList.remove('colab-df-spinner');\n",
              "      quickchartButtonEl.classList.add('colab-df-quickchart-complete');\n",
              "    }\n",
              "    (() => {\n",
              "      let quickchartButtonEl =\n",
              "        document.querySelector('#df-18a18d1e-4da7-48c2-b649-0dd26fc5fafd button');\n",
              "      quickchartButtonEl.style.display =\n",
              "        google.colab.kernel.accessAllowed ? 'block' : 'none';\n",
              "    })();\n",
              "  </script>\n",
              "</div>\n",
              "\n",
              "    </div>\n",
              "  </div>\n"
            ],
            "text/plain": [
              "                                                text  EmailID\n",
              "0  monika try calling ron heller escapenumber esc...    46524\n",
              "1  dear all ,\\nattached is a paper describing the...    46525\n",
              "2  arm inc e yo xual des spe ume reas ur se ire r...    46526\n",
              "3                     you are the man http ourmix hk    46527\n",
              "4  kay mann enron com bmm b b b b b b b escapenum...    46528"
            ]
          },
          "execution_count": 21,
          "metadata": {},
          "output_type": "execute_result"
        }
      ],
      "source": [
        "test_data.head()"
      ]
    },
    {
      "cell_type": "markdown",
      "metadata": {
        "id": "VRS3Zifjzlrb"
      },
      "source": [
        "##Preprocessing test data"
      ]
    },
    {
      "cell_type": "code",
      "execution_count": 22,
      "metadata": {
        "id": "PAMvhmKhzz6E"
      },
      "outputs": [],
      "source": [
        "#Convert text to lowercase\n",
        "test_data['text'] = test_data['text'].str.lower()"
      ]
    },
    {
      "cell_type": "code",
      "execution_count": 23,
      "metadata": {
        "id": "NXLvt6WBzzwo"
      },
      "outputs": [],
      "source": [
        "#Remove punctuation\n",
        "test_data['text'] = test_data['text'].apply(lambda x: re.sub(r'[^\\w\\s]', '', x))"
      ]
    },
    {
      "cell_type": "code",
      "execution_count": 24,
      "metadata": {
        "id": "dd_W7p9uzzlg"
      },
      "outputs": [],
      "source": [
        "#Tokenize text\n",
        "test_data['text'] = test_data['text'].apply(word_tokenize)"
      ]
    },
    {
      "cell_type": "code",
      "execution_count": 25,
      "metadata": {
        "id": "JaNEU6xazp7u"
      },
      "outputs": [],
      "source": [
        "#Remove stopwords\n",
        "stop_words = set(stopwords.words('english'))\n",
        "test_data['text'] = test_data['text'].apply(lambda x: [word for word in x if word not in stop_words])"
      ]
    },
    {
      "cell_type": "code",
      "execution_count": 26,
      "metadata": {
        "id": "o_STA6UD0DNN"
      },
      "outputs": [],
      "source": [
        "#Lemmatize tokens\n",
        "lemmatizer = WordNetLemmatizer()\n",
        "test_data['text'] = test_data['text'].apply(lambda x: [lemmatizer.lemmatize(word) for word in x])"
      ]
    },
    {
      "cell_type": "code",
      "execution_count": 27,
      "metadata": {
        "id": "9YRIVbs80DBW"
      },
      "outputs": [],
      "source": [
        "#Join tokens back into text\n",
        "train_data['text'] = train_data['text'].apply(lambda x: ' '.join(x))\n",
        "test_data['text'] = test_data['text'].apply(lambda x: ' '.join(x))"
      ]
    },
    {
      "cell_type": "code",
      "execution_count": 28,
      "metadata": {
        "id": "EFrmJpym0aqS"
      },
      "outputs": [],
      "source": [
        "#Vectorise\n",
        "X_test_tfidf = tfidf_vectorizer.transform(test_data['text'])"
      ]
    },
    {
      "cell_type": "markdown",
      "metadata": {
        "id": "_NzaPBz57sir"
      },
      "source": [
        "##Making and Saving Predictions"
      ]
    },
    {
      "cell_type": "code",
      "execution_count": 29,
      "metadata": {
        "id": "PlVNjLQIIzis"
      },
      "outputs": [],
      "source": [
        "test_predictions = model.predict(X_test_tfidf)\n",
        "submission_df = pd.DataFrame({'EmailID': test_data['EmailID'], 'label': test_predictions})\n",
        "submission_df.to_csv('submission.csv', index=False)"
      ]
    }
  ],
  "metadata": {
    "colab": {
      "provenance": []
    },
    "kernelspec": {
      "display_name": "Python 3",
      "name": "python3"
    },
    "language_info": {
      "name": "python"
    }
  },
  "nbformat": 4,
  "nbformat_minor": 0
}
